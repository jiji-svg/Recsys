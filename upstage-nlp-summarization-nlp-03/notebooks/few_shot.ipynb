{
 "cells": [
  {
   "cell_type": "markdown",
   "metadata": {},
   "source": [
    "### 필수 라이브러리 설치"
   ]
  },
  {
   "cell_type": "code",
   "execution_count": null,
   "metadata": {},
   "outputs": [],
   "source": [
    "! pip install -q -U langchain-openai\n",
    "! pip install -q -U langchain-community"
   ]
  },
  {
   "cell_type": "markdown",
   "metadata": {},
   "source": [
    "### 라이브러리 임포트"
   ]
  },
  {
   "cell_type": "code",
   "execution_count": null,
   "metadata": {},
   "outputs": [],
   "source": [
    "from langchain.prompts import PromptTemplate, FewShotPromptTemplate\n",
    "from langchain_openai import ChatOpenAI\n",
    "import pandas as pd"
   ]
  },
  {
   "cell_type": "markdown",
   "metadata": {},
   "source": [
    "### 데이터 불러오기"
   ]
  },
  {
   "cell_type": "code",
   "execution_count": null,
   "metadata": {},
   "outputs": [],
   "source": [
    "data = pd.read_csv(\"../data/train.csv\")\n",
    "display(data.head())"
   ]
  },
  {
   "cell_type": "code",
   "execution_count": null,
   "metadata": {},
   "outputs": [],
   "source": [
    "import random\n",
    "\n",
    "def create_examples_from_dataframe(df, num_examples):\n",
    "    examples = []\n",
    "    for _, row in df.sample(n=num_examples).iterrows():\n",
    "        example = {\n",
    "            \"dialogue\": row[\"dialogue\"],\n",
    "            \"summary\": row[\"summary\"],\n",
    "        }\n",
    "        examples.append(example)\n",
    "    return examples"
   ]
  },
  {
   "cell_type": "code",
   "execution_count": null,
   "metadata": {},
   "outputs": [],
   "source": [
    "# 데이터프레임에서 examples 생성\n",
    "examples = create_examples_from_dataframe(data, num_examples=len(data))\n",
    "examples"
   ]
  },
  {
   "cell_type": "code",
   "execution_count": null,
   "metadata": {},
   "outputs": [],
   "source": [
    "# 4개의 예시를 임의로 추출\n",
    "few_shot_examples = random.sample(examples, 4)\n",
    "few_shot_examples"
   ]
  },
  {
   "cell_type": "markdown",
   "metadata": {},
   "source": [
    "### 프롬프트 템플릿"
   ]
  },
  {
   "cell_type": "code",
   "execution_count": null,
   "metadata": {},
   "outputs": [],
   "source": [
    "# 예시 템플릿 정의\n",
    "example_template = \"[대화]\\n{dialogue}\\n\\n[요약]\\n{summary}\"\n",
    "\n",
    "# 예시 프롬프트 템플릿 생성\n",
    "example_prompt = PromptTemplate(\n",
    "    input_variables=[\"dialogue\", \"summary\"],\n",
    "    template=example_template\n",
    ")\n",
    "\n",
    "# Few-shot 프롬프트 템플릿 정의\n",
    "few_shot_prompt = FewShotPromptTemplate(\n",
    "    examples=few_shot_examples,  # 2개의 예시 사용\n",
    "    example_prompt=example_prompt,\n",
    "    prefix=\"당신은 대화를 요약해주는 유능한 AI입니다. \\\n",
    "당신의 임무는 다음에 나오는 대화를 요약하는 것입니다. \\\n",
    "당신의 대답은 오직 제공된 대화에만 근거해야 합니다. \\\n",
    "요약 스타일을 유지해야만 합니다.\",\n",
    "    suffix=\"[대화]\\n{dialogue}\\n\\n[요약]\\n \",\n",
    "    input_variables=[\"dialogue\"]\n",
    ")"
   ]
  },
  {
   "cell_type": "code",
   "execution_count": null,
   "metadata": {},
   "outputs": [],
   "source": [
    "test = pd.read_csv('../data/test.csv')\n",
    "test.head()"
   ]
  },
  {
   "cell_type": "code",
   "execution_count": null,
   "metadata": {},
   "outputs": [],
   "source": [
    "# 새로운 대화 데이터\n",
    "new_dialogue = test['dialogue'][0]\n",
    "# Few-shot 프롬프트 생성\n",
    "prompt = few_shot_prompt.format(dialogue=new_dialogue)\n",
    "\n",
    "print(prompt)"
   ]
  },
  {
   "cell_type": "markdown",
   "metadata": {},
   "source": [
    "### OpenAI API를 활용하여 요약문 생성"
   ]
  },
  {
   "cell_type": "code",
   "execution_count": null,
   "metadata": {},
   "outputs": [],
   "source": [
    "llm = ChatOpenAI(model_name='gpt-4-turbo', openai_api_key=\"\", temperature=0.3, max_tokens=512)"
   ]
  },
  {
   "cell_type": "code",
   "execution_count": null,
   "metadata": {},
   "outputs": [],
   "source": [
    "prompt = few_shot_prompt.format(dialogue=test['dialogue'][0])\n",
    "summary = llm.invoke(prompt)\n",
    "print(summary.content.strip())"
   ]
  },
  {
   "cell_type": "code",
   "execution_count": null,
   "metadata": {},
   "outputs": [],
   "source": [
    "from tqdm.notebook import tqdm\n",
    "\n",
    "summary_list = []\n",
    "for dialouge in tqdm(test['dialogue']):\n",
    "    # 임의로 4개의 few-shot 예제를 추출\n",
    "    few_shot_examples = random.sample(examples, 4)\n",
    "\n",
    "    # Few-shot 프롬프트 템플릿 정의\n",
    "    few_shot_prompt = FewShotPromptTemplate(\n",
    "    examples=few_shot_examples,  # 2개의 예시 사용\n",
    "    example_prompt=example_prompt,\n",
    "    prefix=\"당신은 대화를 요약해주는 유능한 AI입니다. \\\n",
    "당신의 임무는 다음에 나오는 대화를 요약하는 것입니다. \\\n",
    "당신의 대답은 오직 제공된 대화에만 근거해야 합니다. \\\n",
    "요약 스타일을 유지해야만 합니다.\",\n",
    "    suffix=\"[대화]\\n{dialogue}\\n\\n[요약]\\n \",\n",
    "    input_variables=[\"dialogue\"]\n",
    ")\n",
    "    # Few-shot 프롬프트 생성\n",
    "    prompt = few_shot_prompt.format(dialogue=dialouge)\n",
    "\n",
    "    # 언어 모델을 사용하여 요약 생성\n",
    "    summary = llm.invoke(prompt)\n",
    "    print(\"=\"*20, \"[ 대화 ]\", \"=\"*20)\n",
    "    print(dialouge)\n",
    "    print(\"=\"*20, \"[ 요약 ]\", \"=\"*20)\n",
    "    print(summary.content.strip())\n",
    "    print()\n",
    "\n",
    "    summary_list.append(summary.content.strip())"
   ]
  },
  {
   "cell_type": "markdown",
   "metadata": {},
   "source": [
    "### 생성된 요약문 저장"
   ]
  },
  {
   "cell_type": "code",
   "execution_count": null,
   "metadata": {},
   "outputs": [],
   "source": [
    "test['summary'] = summary_list"
   ]
  },
  {
   "cell_type": "code",
   "execution_count": null,
   "metadata": {},
   "outputs": [],
   "source": [
    "test[['fname', 'summary']].to_csv(\"submission_fewshot.csv\", index=False)"
   ]
  },
  {
   "cell_type": "code",
   "execution_count": null,
   "metadata": {},
   "outputs": [],
   "source": []
  }
 ],
 "metadata": {
  "kernelspec": {
   "display_name": "base",
   "language": "python",
   "name": "python3"
  },
  "language_info": {
   "codemirror_mode": {
    "name": "ipython",
    "version": 3
   },
   "file_extension": ".py",
   "mimetype": "text/x-python",
   "name": "python",
   "nbconvert_exporter": "python",
   "pygments_lexer": "ipython3",
   "version": "3.10.13"
  }
 },
 "nbformat": 4,
 "nbformat_minor": 2
}
